{
 "cells": [
  {
   "cell_type": "code",
   "execution_count": null,
   "metadata": {},
   "outputs": [],
   "source": [
    "import pandas as pd\n",
    "\n",
    "#region Importazionie\n",
    "file_path = r\"C:\\Users\\JoaquimFrancalanci\\OneDrive - ITS Angelo Rizzoli\\Desktop\\MachineLearning\\shopping_behavior_updated.csv\"\n",
    "df = pd.read_csv(file_path)\n",
    "\n",
    "print(df.head())"
   ]
  },
  {
   "cell_type": "code",
   "execution_count": 4,
   "metadata": {},
   "outputs": [],
   "source": [
    "#Group customers based on their behaviors for targeted strategies\n",
    "columns_for_clustering = ['Age', 'Purchase Amount (USD)', 'Review Rating', \n",
    "                          'Previous Purchases', 'Frequency of Purchases']\n",
    "\n",
    "numerical_features = [col for col in columns_for_clustering if df[col].dtype in [\"int64\", \"float64\"]]\n",
    "categorical_features = [col for col in columns_for_clustering if col not in numerical_features]"
   ]
  },
  {
   "cell_type": "code",
   "execution_count": 5,
   "metadata": {},
   "outputs": [],
   "source": [
    "from sklearn.preprocessing import OneHotEncoder, StandardScaler\n",
    "encoder = OneHotEncoder(sparse_output=False)\n",
    "encoded_categorical_features = encoder.fit_transform(df[categorical_features])"
   ]
  },
  {
   "cell_type": "code",
   "execution_count": null,
   "metadata": {},
   "outputs": [],
   "source": [
    "data_for_clustering = pd.concat([df[numerical_features], pd.DataFrame(encoded_categorical_features, columns=encoder.get_feature_names_out(categorical_features))], axis=1)\n",
    "\n",
    "data_for_clustering.head()"
   ]
  },
  {
   "cell_type": "code",
   "execution_count": null,
   "metadata": {},
   "outputs": [],
   "source": [
    "scaler = StandardScaler()\n",
    "scaler.fit(data_for_clustering)\n",
    "data_for_clustering = scaler.transform(data_for_clustering)"
   ]
  },
  {
   "cell_type": "code",
   "execution_count": 16,
   "metadata": {},
   "outputs": [],
   "source": [
    "from sklearn.preprocessing import StandardScaler\n",
    "from sklearn.cluster import KMeans, AgglomerativeClustering, DBSCAN\n",
    "from sklearn.metrics import silhouette_score\n",
    "from sklearn.impute import SimpleImputer"
   ]
  },
  {
   "cell_type": "code",
   "execution_count": 36,
   "metadata": {},
   "outputs": [
    {
     "name": "stderr",
     "output_type": "stream",
     "text": [
      "c:\\Users\\JoaquimFrancalanci\\anaconda3\\Lib\\site-packages\\sklearn\\cluster\\_kmeans.py:1412: FutureWarning: The default value of `n_init` will change from 10 to 'auto' in 1.4. Set the value of `n_init` explicitly to suppress the warning\n",
      "  super()._check_params_vs_input(X, default_n_init=10)\n"
     ]
    },
    {
     "name": "stdout",
     "output_type": "stream",
     "text": [
      "KMeans clustering silhouette score: 0.190864594347681\n"
     ]
    }
   ],
   "source": [
    "def perform_kmeans(data, num_clusters):\n",
    "    kmeans = KMeans(n_clusters=num_clusters, random_state=42)\n",
    "    cluster_labels = kmeans.fit_predict(data)\n",
    "    silhouette_avg = silhouette_score(data, cluster_labels)\n",
    "    return silhouette_avg, cluster_labels\n",
    "\n",
    "num_clusters = 3\n",
    "\n",
    "kmeans_silhouette, kmeans_labels = perform_kmeans(data_for_clustering, num_clusters)\n",
    "df['KMeans_Cluster'] = kmeans_labels\n",
    "\n",
    "print(f\"KMeans clustering silhouette score: {kmeans_silhouette}\")"
   ]
  },
  {
   "cell_type": "code",
   "execution_count": 37,
   "metadata": {},
   "outputs": [
    {
     "name": "stdout",
     "output_type": "stream",
     "text": [
      "Hierarchical clustering silhouette score: 0.1909014518077724\n"
     ]
    }
   ],
   "source": [
    "def perform_hierarchical_clustering(data, num_clusters):\n",
    "    hierarchical = AgglomerativeClustering(n_clusters=num_clusters)\n",
    "    cluster_labels = hierarchical.fit_predict(data)\n",
    "    silhouette_avg = silhouette_score(data, cluster_labels)\n",
    "    return silhouette_avg, cluster_labels\n",
    "\n",
    "hierarchical_silhouette, hierarchical_labels = perform_hierarchical_clustering(data_for_clustering, num_clusters)\n",
    "df['Hierarchical_Cluster'] = hierarchical_labels\n",
    "\n",
    "print(f\"Hierarchical clustering silhouette score: {hierarchical_silhouette}\")"
   ]
  },
  {
   "cell_type": "code",
   "execution_count": null,
   "metadata": {},
   "outputs": [],
   "source": [
    "def perform_dbscan(data, eps, min_samples):\n",
    "    dbscan = DBSCAN(eps=eps, min_samples=min_samples)\n",
    "    cluster_labels = dbscan.fit_predict(data)\n",
    "    silhouette_avg = silhouette_score(data, cluster_labels)\n",
    "    return silhouette_avg, cluster_labels\n",
    "\n",
    "dbscan_silhouette, dbscan_labels = perform_dbscan(data_for_clustering, eps=0.5, min_samples=5)\n",
    "df['DBSCAN_Cluster'] = dbscan_labels\n",
    "\n",
    "print(f\"DBSCA clustering silhouette score: {dbscan_silhouette}\")"
   ]
  },
  {
   "cell_type": "code",
   "execution_count": 17,
   "metadata": {},
   "outputs": [],
   "source": [
    "import matplotlib.pyplot as plt\n",
    "import seaborn as sns"
   ]
  },
  {
   "cell_type": "code",
   "execution_count": null,
   "metadata": {},
   "outputs": [],
   "source": [
    "plt.figure(figsize=(15, 5))\n",
    "\n",
    "plt.subplot(131)\n",
    "plt.scatter(df['Age'], df['Purchase Amount (USD)'], c=df['KMeans_Cluster'], cmap='viridis')\n",
    "plt.title('K-Means Clustering')\n",
    "\n",
    "plt.subplot(132)\n",
    "plt.scatter(df['Age'], df['Purchase Amount (USD)'], c=df['Hierarchical_Cluster'], cmap='viridis')\n",
    "plt.title('Hierarchical Clustering')\n",
    "\n",
    "plt.subplot(133)\n",
    "plt.scatter(df['Age'], df['Purchase Amount (USD)'], c=df['DBSCAN_Cluster'], cmap='viridis')\n",
    "plt.title('DBSCAN Clustering')\n",
    "\n",
    "plt.show()"
   ]
  },
  {
   "cell_type": "code",
   "execution_count": 19,
   "metadata": {},
   "outputs": [],
   "source": [
    "from mpl_toolkits.mplot3d import Axes3D"
   ]
  },
  {
   "cell_type": "code",
   "execution_count": null,
   "metadata": {},
   "outputs": [],
   "source": [
    "fig = plt.figure(figsize=(15, 5))\n",
    "\n",
    "ax1 = fig.add_subplot(131, projection='3d')\n",
    "ax1.scatter(df['Age'], df['Purchase Amount (USD)'], df['KMeans_Cluster'], c=df['KMeans_Cluster'], cmap='viridis')\n",
    "ax1.set_title('K-Means Clustering')\n",
    "ax1.set_xlabel('Age')\n",
    "ax1.set_ylabel('Purchase Amount (USD)')\n",
    "ax1.set_zlabel('Cluster')\n",
    "\n",
    "ax2 = fig.add_subplot(132, projection='3d')\n",
    "ax2.scatter(df['Age'], df['Purchase Amount (USD)'], df['Hierarchical_Cluster'], c=df['Hierarchical_Cluster'], cmap='viridis')\n",
    "ax2.set_title('Hierarchical Clustering')\n",
    "ax2.set_xlabel('Age')\n",
    "ax2.set_ylabel('Purchase Amount (USD)')\n",
    "ax2.set_zlabel('Cluster')\n",
    "\n",
    "ax3 = fig.add_subplot(133, projection='3d')\n",
    "ax3.scatter(df['Age'], df['Purchase Amount (USD)'], df['DBSCAN_Cluster'], c=df['DBSCAN_Cluster'], cmap='viridis')\n",
    "ax3.set_title('DBSCAN Clustering')\n",
    "ax3.set_xlabel('Age')\n",
    "ax3.set_ylabel('Purchase Amount (USD)')\n",
    "ax3.set_zlabel('Cluster')\n",
    "\n",
    "plt.show()"
   ]
  }
 ],
 "metadata": {
  "kernelspec": {
   "display_name": "base",
   "language": "python",
   "name": "python3"
  },
  "language_info": {
   "codemirror_mode": {
    "name": "ipython",
    "version": 3
   },
   "file_extension": ".py",
   "mimetype": "text/x-python",
   "name": "python",
   "nbconvert_exporter": "python",
   "pygments_lexer": "ipython3",
   "version": "3.11.5"
  }
 },
 "nbformat": 4,
 "nbformat_minor": 2
}
